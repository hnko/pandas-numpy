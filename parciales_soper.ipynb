{
 "cells": [
  {
   "cell_type": "code",
   "execution_count": 270,
   "metadata": {},
   "outputs": [],
   "source": [
    "import pandas as pd\n",
    "import numpy as np"
   ]
  },
  {
   "cell_type": "code",
   "execution_count": 271,
   "metadata": {
    "scrolled": false
   },
   "outputs": [],
   "source": [
    "df = pd.read_csv('soper_parciales.csv', sep=';', names=['NIA', 'P1', 'P2', '1', '2','3','P3','4','5','6'])"
   ]
  },
  {
   "cell_type": "code",
   "execution_count": 272,
   "metadata": {},
   "outputs": [],
   "source": [
    "#delete the first two rows, delete also the column that we are not going to need, reset the index and start it by 1\n",
    "df.drop(df.index[0:2], inplace=True)\n",
    "df.drop(df.columns[[0, 3, 4, 5, 7, 8, 9]], axis=1, inplace=True)\n",
    "df.reset_index(drop=True, inplace=True)\n",
    "df.index += 1"
   ]
  },
  {
   "cell_type": "code",
   "execution_count": 273,
   "metadata": {},
   "outputs": [
    {
     "data": {
      "text/html": [
       "<div>\n",
       "<style scoped>\n",
       "    .dataframe tbody tr th:only-of-type {\n",
       "        vertical-align: middle;\n",
       "    }\n",
       "\n",
       "    .dataframe tbody tr th {\n",
       "        vertical-align: top;\n",
       "    }\n",
       "\n",
       "    .dataframe thead th {\n",
       "        text-align: right;\n",
       "    }\n",
       "</style>\n",
       "<table border=\"1\" class=\"dataframe\">\n",
       "  <thead>\n",
       "    <tr style=\"text-align: right;\">\n",
       "      <th></th>\n",
       "      <th>P1</th>\n",
       "      <th>P2</th>\n",
       "      <th>P3</th>\n",
       "    </tr>\n",
       "  </thead>\n",
       "  <tbody>\n",
       "    <tr>\n",
       "      <th>1</th>\n",
       "      <td>9,22</td>\n",
       "      <td>5,78</td>\n",
       "      <td>3,19</td>\n",
       "    </tr>\n",
       "    <tr>\n",
       "      <th>2</th>\n",
       "      <td>2,67</td>\n",
       "      <td>3,56</td>\n",
       "      <td>0,7</td>\n",
       "    </tr>\n",
       "    <tr>\n",
       "      <th>3</th>\n",
       "      <td>5,22</td>\n",
       "      <td>5,44</td>\n",
       "      <td>1,69</td>\n",
       "    </tr>\n",
       "    <tr>\n",
       "      <th>4</th>\n",
       "      <td>3,65</td>\n",
       "      <td>7,33</td>\n",
       "      <td>3,36</td>\n",
       "    </tr>\n",
       "    <tr>\n",
       "      <th>5</th>\n",
       "      <td>7,65</td>\n",
       "      <td>2,33</td>\n",
       "      <td>NaN</td>\n",
       "    </tr>\n",
       "  </tbody>\n",
       "</table>\n",
       "</div>"
      ],
      "text/plain": [
       "     P1    P2    P3\n",
       "1  9,22  5,78  3,19\n",
       "2  2,67  3,56   0,7\n",
       "3  5,22  5,44  1,69\n",
       "4  3,65  7,33  3,36\n",
       "5  7,65  2,33   NaN"
      ]
     },
     "execution_count": 273,
     "metadata": {},
     "output_type": "execute_result"
    }
   ],
   "source": [
    "df.head(5)"
   ]
  },
  {
   "cell_type": "code",
   "execution_count": 274,
   "metadata": {},
   "outputs": [],
   "source": [
    "#nan is float so we need to forget about those elements\n",
    "notas_p1 = [float(grade.replace(',', '.')) for grade in df['P1'] if type(grade) != float]\n",
    "notas_p2 = [float(grade.replace(',', '.')) for grade in df['P2'] if type(grade) != float]\n",
    "notas_p3 = [float(grade.replace(',', '.')) for grade in df['P3'] if type(grade) != float]\n"
   ]
  },
  {
   "cell_type": "code",
   "execution_count": 275,
   "metadata": {},
   "outputs": [],
   "source": [
    "aprobados_p1 = [grade for grade in notas_p1 if grade>=5]\n",
    "aprobados_p2 = [grade for grade in notas_p2 if grade>=5]\n",
    "aprobados_p3 = [grade for grade in notas_p3 if grade>=5]"
   ]
  },
  {
   "cell_type": "code",
   "execution_count": 276,
   "metadata": {},
   "outputs": [
    {
     "name": "stdout",
     "output_type": "stream",
     "text": [
      "Porcentaje de aprobados en P1 : 56.5%\n",
      "Porcentaje de aprobados en P2 : 50.99%\n",
      "Porcentaje de aprobados en P3 : 18.93%\n"
     ]
    }
   ],
   "source": [
    "print(\"Porcentaje de aprobados en P1 : {0:.4}%\".format(len(aprobados_p1)/len(notas_p1)*100))\n",
    "print(\"Porcentaje de aprobados en P2 : {0:.4}%\".format(len(aprobados_p2)/len(notas_p2)*100))\n",
    "print(\"Porcentaje de aprobados en P3 : {0:.4}%\".format(len(aprobados_p3)/len(notas_p3)*100))"
   ]
  },
  {
   "cell_type": "code",
   "execution_count": 277,
   "metadata": {},
   "outputs": [
    {
     "name": "stdout",
     "output_type": "stream",
     "text": [
      "Media general P1: 5.08\n",
      "Media general P2: 4.69\n",
      "Media general P3: 2.96\n"
     ]
    }
   ],
   "source": [
    "print(\"Media general P1: {0:.3}\".format(sum(notas_p1)/len(notas_p1)))\n",
    "print(\"Media general P2: {0:.3}\".format(sum(notas_p2)/len(notas_p2)))\n",
    "print(\"Media general P3: {0:.3}\".format(sum(notas_p3)/len(notas_p3)))"
   ]
  },
  {
   "cell_type": "code",
   "execution_count": 278,
   "metadata": {
    "scrolled": true
   },
   "outputs": [
    {
     "name": "stdout",
     "output_type": "stream",
     "text": [
      "Media aprobados P1: 7.12\n",
      "Media aprobados P2: 6.57\n",
      "Media aprobados P3: 6.97\n"
     ]
    }
   ],
   "source": [
    "print(\"Media aprobados P1: {0:.3}\".format(sum(aprobados_p1)/len(aprobados_p1)))\n",
    "print(\"Media aprobados P2: {0:.3}\".format(sum(aprobados_p2)/len(aprobados_p2)))\n",
    "print(\"Media aprobados P3: {0:.3}\".format(sum(aprobados_p3)/len(aprobados_p3)))"
   ]
  },
  {
   "cell_type": "code",
   "execution_count": 279,
   "metadata": {},
   "outputs": [],
   "source": [
    "#better way to use dataFrames is this: replace ',' to '.' and convert to numeric the attributes of the dataFrame\n",
    "\n",
    "df['P1'] = pd.to_numeric(df['P1'].str.replace(',', '.'))\n",
    "df['P2'] = pd.to_numeric(df['P2'].str.replace(',', '.'))\n",
    "df['P3'] = pd.to_numeric(df['P3'].str.replace(',', '.'))"
   ]
  },
  {
   "cell_type": "code",
   "execution_count": 296,
   "metadata": {},
   "outputs": [
    {
     "data": {
      "text/html": [
       "<div>\n",
       "<style scoped>\n",
       "    .dataframe tbody tr th:only-of-type {\n",
       "        vertical-align: middle;\n",
       "    }\n",
       "\n",
       "    .dataframe tbody tr th {\n",
       "        vertical-align: top;\n",
       "    }\n",
       "\n",
       "    .dataframe thead th {\n",
       "        text-align: right;\n",
       "    }\n",
       "</style>\n",
       "<table border=\"1\" class=\"dataframe\">\n",
       "  <thead>\n",
       "    <tr style=\"text-align: right;\">\n",
       "      <th></th>\n",
       "      <th>P1</th>\n",
       "      <th>P2</th>\n",
       "      <th>P3</th>\n",
       "    </tr>\n",
       "  </thead>\n",
       "  <tbody>\n",
       "    <tr>\n",
       "      <th>1</th>\n",
       "      <td>9.22</td>\n",
       "      <td>5.78</td>\n",
       "      <td>3.19</td>\n",
       "    </tr>\n",
       "    <tr>\n",
       "      <th>2</th>\n",
       "      <td>2.67</td>\n",
       "      <td>3.56</td>\n",
       "      <td>0.70</td>\n",
       "    </tr>\n",
       "    <tr>\n",
       "      <th>3</th>\n",
       "      <td>5.22</td>\n",
       "      <td>5.44</td>\n",
       "      <td>1.69</td>\n",
       "    </tr>\n",
       "    <tr>\n",
       "      <th>4</th>\n",
       "      <td>3.65</td>\n",
       "      <td>7.33</td>\n",
       "      <td>3.36</td>\n",
       "    </tr>\n",
       "    <tr>\n",
       "      <th>5</th>\n",
       "      <td>7.65</td>\n",
       "      <td>2.33</td>\n",
       "      <td>NaN</td>\n",
       "    </tr>\n",
       "  </tbody>\n",
       "</table>\n",
       "</div>"
      ],
      "text/plain": [
       "     P1    P2    P3\n",
       "1  9.22  5.78  3.19\n",
       "2  2.67  3.56  0.70\n",
       "3  5.22  5.44  1.69\n",
       "4  3.65  7.33  3.36\n",
       "5  7.65  2.33   NaN"
      ]
     },
     "execution_count": 296,
     "metadata": {},
     "output_type": "execute_result"
    }
   ],
   "source": [
    "df.head()"
   ]
  },
  {
   "cell_type": "markdown",
   "metadata": {},
   "source": [
    "\n",
    "# Data in General"
   ]
  },
  {
   "cell_type": "code",
   "execution_count": 281,
   "metadata": {
    "scrolled": true
   },
   "outputs": [
    {
     "data": {
      "text/html": [
       "<div>\n",
       "<style scoped>\n",
       "    .dataframe tbody tr th:only-of-type {\n",
       "        vertical-align: middle;\n",
       "    }\n",
       "\n",
       "    .dataframe tbody tr th {\n",
       "        vertical-align: top;\n",
       "    }\n",
       "\n",
       "    .dataframe thead th {\n",
       "        text-align: right;\n",
       "    }\n",
       "</style>\n",
       "<table border=\"1\" class=\"dataframe\">\n",
       "  <thead>\n",
       "    <tr style=\"text-align: right;\">\n",
       "      <th></th>\n",
       "      <th>P1</th>\n",
       "      <th>P2</th>\n",
       "      <th>P3</th>\n",
       "    </tr>\n",
       "  </thead>\n",
       "  <tbody>\n",
       "    <tr>\n",
       "      <th>count</th>\n",
       "      <td>223.000000</td>\n",
       "      <td>202.000000</td>\n",
       "      <td>169.000000</td>\n",
       "    </tr>\n",
       "    <tr>\n",
       "      <th>mean</th>\n",
       "      <td>5.080000</td>\n",
       "      <td>4.692426</td>\n",
       "      <td>2.963254</td>\n",
       "    </tr>\n",
       "    <tr>\n",
       "      <th>std</th>\n",
       "      <td>2.717669</td>\n",
       "      <td>2.273143</td>\n",
       "      <td>2.349764</td>\n",
       "    </tr>\n",
       "    <tr>\n",
       "      <th>min</th>\n",
       "      <td>0.000000</td>\n",
       "      <td>0.220000</td>\n",
       "      <td>0.000000</td>\n",
       "    </tr>\n",
       "    <tr>\n",
       "      <th>25%</th>\n",
       "      <td>2.670000</td>\n",
       "      <td>2.845000</td>\n",
       "      <td>1.190000</td>\n",
       "    </tr>\n",
       "    <tr>\n",
       "      <th>50%</th>\n",
       "      <td>5.330000</td>\n",
       "      <td>5.055000</td>\n",
       "      <td>2.630000</td>\n",
       "    </tr>\n",
       "    <tr>\n",
       "      <th>75%</th>\n",
       "      <td>7.215000</td>\n",
       "      <td>6.362500</td>\n",
       "      <td>3.900000</td>\n",
       "    </tr>\n",
       "    <tr>\n",
       "      <th>max</th>\n",
       "      <td>9.670000</td>\n",
       "      <td>9.110000</td>\n",
       "      <td>10.000000</td>\n",
       "    </tr>\n",
       "  </tbody>\n",
       "</table>\n",
       "</div>"
      ],
      "text/plain": [
       "               P1          P2          P3\n",
       "count  223.000000  202.000000  169.000000\n",
       "mean     5.080000    4.692426    2.963254\n",
       "std      2.717669    2.273143    2.349764\n",
       "min      0.000000    0.220000    0.000000\n",
       "25%      2.670000    2.845000    1.190000\n",
       "50%      5.330000    5.055000    2.630000\n",
       "75%      7.215000    6.362500    3.900000\n",
       "max      9.670000    9.110000   10.000000"
      ]
     },
     "execution_count": 281,
     "metadata": {},
     "output_type": "execute_result"
    }
   ],
   "source": [
    "df.describe()"
   ]
  },
  {
   "cell_type": "code",
   "execution_count": 295,
   "metadata": {},
   "outputs": [
    {
     "data": {
      "text/plain": [
       "32"
      ]
     },
     "execution_count": 295,
     "metadata": {},
     "output_type": "execute_result"
    }
   ],
   "source": [
    "# Number of people who passed the exam 3\n",
    "df[df['P3']>=5]['P3'].count()"
   ]
  },
  {
   "cell_type": "markdown",
   "metadata": {},
   "source": [
    "# Data of who passed the three exams"
   ]
  },
  {
   "cell_type": "code",
   "execution_count": 294,
   "metadata": {},
   "outputs": [
    {
     "data": {
      "text/html": [
       "<div>\n",
       "<style scoped>\n",
       "    .dataframe tbody tr th:only-of-type {\n",
       "        vertical-align: middle;\n",
       "    }\n",
       "\n",
       "    .dataframe tbody tr th {\n",
       "        vertical-align: top;\n",
       "    }\n",
       "\n",
       "    .dataframe thead th {\n",
       "        text-align: right;\n",
       "    }\n",
       "</style>\n",
       "<table border=\"1\" class=\"dataframe\">\n",
       "  <thead>\n",
       "    <tr style=\"text-align: right;\">\n",
       "      <th></th>\n",
       "      <th>P1</th>\n",
       "      <th>P2</th>\n",
       "      <th>P3</th>\n",
       "    </tr>\n",
       "  </thead>\n",
       "  <tbody>\n",
       "    <tr>\n",
       "      <th>count</th>\n",
       "      <td>26.000000</td>\n",
       "      <td>26.000000</td>\n",
       "      <td>26.000000</td>\n",
       "    </tr>\n",
       "    <tr>\n",
       "      <th>mean</th>\n",
       "      <td>7.950385</td>\n",
       "      <td>7.488462</td>\n",
       "      <td>7.063077</td>\n",
       "    </tr>\n",
       "    <tr>\n",
       "      <th>std</th>\n",
       "      <td>1.319292</td>\n",
       "      <td>1.237034</td>\n",
       "      <td>1.422448</td>\n",
       "    </tr>\n",
       "    <tr>\n",
       "      <th>min</th>\n",
       "      <td>5.010000</td>\n",
       "      <td>5.110000</td>\n",
       "      <td>5.000000</td>\n",
       "    </tr>\n",
       "    <tr>\n",
       "      <th>25%</th>\n",
       "      <td>7.152500</td>\n",
       "      <td>6.572500</td>\n",
       "      <td>5.717500</td>\n",
       "    </tr>\n",
       "    <tr>\n",
       "      <th>50%</th>\n",
       "      <td>8.420000</td>\n",
       "      <td>7.820000</td>\n",
       "      <td>6.910000</td>\n",
       "    </tr>\n",
       "    <tr>\n",
       "      <th>75%</th>\n",
       "      <td>8.975000</td>\n",
       "      <td>8.442500</td>\n",
       "      <td>8.257500</td>\n",
       "    </tr>\n",
       "    <tr>\n",
       "      <th>max</th>\n",
       "      <td>9.670000</td>\n",
       "      <td>9.110000</td>\n",
       "      <td>10.000000</td>\n",
       "    </tr>\n",
       "  </tbody>\n",
       "</table>\n",
       "</div>"
      ],
      "text/plain": [
       "              P1         P2         P3\n",
       "count  26.000000  26.000000  26.000000\n",
       "mean    7.950385   7.488462   7.063077\n",
       "std     1.319292   1.237034   1.422448\n",
       "min     5.010000   5.110000   5.000000\n",
       "25%     7.152500   6.572500   5.717500\n",
       "50%     8.420000   7.820000   6.910000\n",
       "75%     8.975000   8.442500   8.257500\n",
       "max     9.670000   9.110000  10.000000"
      ]
     },
     "execution_count": 294,
     "metadata": {},
     "output_type": "execute_result"
    }
   ],
   "source": [
    "#Data of the people who passed the three exams\n",
    "df[(df['P1']>=5) & (df['P3']>=5) & (df['P2']>=5)].describe()"
   ]
  }
 ],
 "metadata": {
  "kernelspec": {
   "display_name": "Python 3",
   "language": "python",
   "name": "python3"
  },
  "language_info": {
   "codemirror_mode": {
    "name": "ipython",
    "version": 3
   },
   "file_extension": ".py",
   "mimetype": "text/x-python",
   "name": "python",
   "nbconvert_exporter": "python",
   "pygments_lexer": "ipython3",
   "version": "3.6.3"
  }
 },
 "nbformat": 4,
 "nbformat_minor": 2
}
