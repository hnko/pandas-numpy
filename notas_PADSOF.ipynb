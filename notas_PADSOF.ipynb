{
 "cells": [
  {
   "cell_type": "code",
   "execution_count": 31,
   "metadata": {},
   "outputs": [],
   "source": [
    "import pandas as pd"
   ]
  },
  {
   "cell_type": "code",
   "execution_count": 35,
   "metadata": {},
   "outputs": [],
   "source": [
    "df = pd.read_csv('notas_PADSOF.csv', sep=';', names=['nie', 'nota_proyect', 'pregunta1', 'pregunta2', 'pregunta3', 'pregunta4', 'nota_examen', 'nota_asignatura'])"
   ]
  },
  {
   "cell_type": "code",
   "execution_count": 36,
   "metadata": {},
   "outputs": [],
   "source": [
    "#drop unnecessary rows and columns\n",
    "df.drop(df.index[0:4], inplace=True)\n",
    "df.drop(df.columns[0], axis=1, inplace=True)\n"
   ]
  },
  {
   "cell_type": "code",
   "execution_count": 38,
   "metadata": {},
   "outputs": [],
   "source": [
    "#convert to supported system notation\n",
    "for i in range(7):\n",
    "    df[df.columns[i]] = pd.to_numeric(df[df.columns[i]].str.replace(',', '.'), errors = 'coerce')"
   ]
  },
  {
   "cell_type": "code",
   "execution_count": 41,
   "metadata": {},
   "outputs": [
    {
     "data": {
      "text/html": [
       "<div>\n",
       "<style scoped>\n",
       "    .dataframe tbody tr th:only-of-type {\n",
       "        vertical-align: middle;\n",
       "    }\n",
       "\n",
       "    .dataframe tbody tr th {\n",
       "        vertical-align: top;\n",
       "    }\n",
       "\n",
       "    .dataframe thead th {\n",
       "        text-align: right;\n",
       "    }\n",
       "</style>\n",
       "<table border=\"1\" class=\"dataframe\">\n",
       "  <thead>\n",
       "    <tr style=\"text-align: right;\">\n",
       "      <th></th>\n",
       "      <th>nota_proyect</th>\n",
       "      <th>pregunta1</th>\n",
       "      <th>pregunta2</th>\n",
       "      <th>pregunta3</th>\n",
       "      <th>pregunta4</th>\n",
       "      <th>nota_examen</th>\n",
       "      <th>nota_asignatura</th>\n",
       "    </tr>\n",
       "  </thead>\n",
       "  <tbody>\n",
       "    <tr>\n",
       "      <th>4</th>\n",
       "      <td>8.06</td>\n",
       "      <td>0.6</td>\n",
       "      <td>3.15</td>\n",
       "      <td>0.75</td>\n",
       "      <td>0.5</td>\n",
       "      <td>5.00</td>\n",
       "      <td>7.5</td>\n",
       "    </tr>\n",
       "    <tr>\n",
       "      <th>5</th>\n",
       "      <td>NaN</td>\n",
       "      <td>NaN</td>\n",
       "      <td>NaN</td>\n",
       "      <td>NaN</td>\n",
       "      <td>NaN</td>\n",
       "      <td>NaN</td>\n",
       "      <td>NaN</td>\n",
       "    </tr>\n",
       "    <tr>\n",
       "      <th>6</th>\n",
       "      <td>2.36</td>\n",
       "      <td>NaN</td>\n",
       "      <td>NaN</td>\n",
       "      <td>NaN</td>\n",
       "      <td>NaN</td>\n",
       "      <td>0.00</td>\n",
       "      <td>1.7</td>\n",
       "    </tr>\n",
       "    <tr>\n",
       "      <th>7</th>\n",
       "      <td>NaN</td>\n",
       "      <td>NaN</td>\n",
       "      <td>NaN</td>\n",
       "      <td>NaN</td>\n",
       "      <td>NaN</td>\n",
       "      <td>NaN</td>\n",
       "      <td>NaN</td>\n",
       "    </tr>\n",
       "    <tr>\n",
       "      <th>8</th>\n",
       "      <td>8.50</td>\n",
       "      <td>NaN</td>\n",
       "      <td>3.45</td>\n",
       "      <td>1.20</td>\n",
       "      <td>1.0</td>\n",
       "      <td>5.65</td>\n",
       "      <td>8.0</td>\n",
       "    </tr>\n",
       "  </tbody>\n",
       "</table>\n",
       "</div>"
      ],
      "text/plain": [
       "   nota_proyect  pregunta1  pregunta2  pregunta3  pregunta4  nota_examen  \\\n",
       "4          8.06        0.6       3.15       0.75        0.5         5.00   \n",
       "5           NaN        NaN        NaN        NaN        NaN          NaN   \n",
       "6          2.36        NaN        NaN        NaN        NaN         0.00   \n",
       "7           NaN        NaN        NaN        NaN        NaN          NaN   \n",
       "8          8.50        NaN       3.45       1.20        1.0         5.65   \n",
       "\n",
       "   nota_asignatura  \n",
       "4              7.5  \n",
       "5              NaN  \n",
       "6              1.7  \n",
       "7              NaN  \n",
       "8              8.0  "
      ]
     },
     "execution_count": 41,
     "metadata": {},
     "output_type": "execute_result"
    }
   ],
   "source": [
    "df.head()"
   ]
  },
  {
   "cell_type": "code",
   "execution_count": 43,
   "metadata": {},
   "outputs": [
    {
     "data": {
      "text/html": [
       "<div>\n",
       "<style scoped>\n",
       "    .dataframe tbody tr th:only-of-type {\n",
       "        vertical-align: middle;\n",
       "    }\n",
       "\n",
       "    .dataframe tbody tr th {\n",
       "        vertical-align: top;\n",
       "    }\n",
       "\n",
       "    .dataframe thead th {\n",
       "        text-align: right;\n",
       "    }\n",
       "</style>\n",
       "<table border=\"1\" class=\"dataframe\">\n",
       "  <thead>\n",
       "    <tr style=\"text-align: right;\">\n",
       "      <th></th>\n",
       "      <th>nota_proyect</th>\n",
       "      <th>pregunta1</th>\n",
       "      <th>pregunta2</th>\n",
       "      <th>pregunta3</th>\n",
       "      <th>pregunta4</th>\n",
       "      <th>nota_examen</th>\n",
       "      <th>nota_asignatura</th>\n",
       "    </tr>\n",
       "  </thead>\n",
       "  <tbody>\n",
       "    <tr>\n",
       "      <th>count</th>\n",
       "      <td>202.000000</td>\n",
       "      <td>195.000000</td>\n",
       "      <td>197.000000</td>\n",
       "      <td>195.000000</td>\n",
       "      <td>191.000000</td>\n",
       "      <td>203.000000</td>\n",
       "      <td>203.000000</td>\n",
       "    </tr>\n",
       "    <tr>\n",
       "      <th>mean</th>\n",
       "      <td>6.548713</td>\n",
       "      <td>1.352154</td>\n",
       "      <td>2.754188</td>\n",
       "      <td>1.046385</td>\n",
       "      <td>0.523717</td>\n",
       "      <td>5.469557</td>\n",
       "      <td>6.212808</td>\n",
       "    </tr>\n",
       "    <tr>\n",
       "      <th>std</th>\n",
       "      <td>1.720576</td>\n",
       "      <td>0.370051</td>\n",
       "      <td>0.615836</td>\n",
       "      <td>0.329972</td>\n",
       "      <td>0.496586</td>\n",
       "      <td>1.602178</td>\n",
       "      <td>1.647631</td>\n",
       "    </tr>\n",
       "    <tr>\n",
       "      <th>min</th>\n",
       "      <td>1.500000</td>\n",
       "      <td>0.200000</td>\n",
       "      <td>0.000000</td>\n",
       "      <td>0.000000</td>\n",
       "      <td>0.000000</td>\n",
       "      <td>0.000000</td>\n",
       "      <td>1.300000</td>\n",
       "    </tr>\n",
       "    <tr>\n",
       "      <th>25%</th>\n",
       "      <td>5.620000</td>\n",
       "      <td>1.240000</td>\n",
       "      <td>2.400000</td>\n",
       "      <td>0.900000</td>\n",
       "      <td>0.000000</td>\n",
       "      <td>5.000000</td>\n",
       "      <td>4.900000</td>\n",
       "    </tr>\n",
       "    <tr>\n",
       "      <th>50%</th>\n",
       "      <td>6.800000</td>\n",
       "      <td>1.480000</td>\n",
       "      <td>2.800000</td>\n",
       "      <td>1.100000</td>\n",
       "      <td>0.500000</td>\n",
       "      <td>5.525000</td>\n",
       "      <td>6.400000</td>\n",
       "    </tr>\n",
       "    <tr>\n",
       "      <th>75%</th>\n",
       "      <td>7.700000</td>\n",
       "      <td>1.600000</td>\n",
       "      <td>3.200000</td>\n",
       "      <td>1.300000</td>\n",
       "      <td>0.750000</td>\n",
       "      <td>6.550000</td>\n",
       "      <td>7.500000</td>\n",
       "    </tr>\n",
       "    <tr>\n",
       "      <th>max</th>\n",
       "      <td>9.300000</td>\n",
       "      <td>1.900000</td>\n",
       "      <td>3.875000</td>\n",
       "      <td>1.700000</td>\n",
       "      <td>1.750000</td>\n",
       "      <td>8.575000</td>\n",
       "      <td>9.100000</td>\n",
       "    </tr>\n",
       "  </tbody>\n",
       "</table>\n",
       "</div>"
      ],
      "text/plain": [
       "       nota_proyect   pregunta1   pregunta2   pregunta3   pregunta4  \\\n",
       "count    202.000000  195.000000  197.000000  195.000000  191.000000   \n",
       "mean       6.548713    1.352154    2.754188    1.046385    0.523717   \n",
       "std        1.720576    0.370051    0.615836    0.329972    0.496586   \n",
       "min        1.500000    0.200000    0.000000    0.000000    0.000000   \n",
       "25%        5.620000    1.240000    2.400000    0.900000    0.000000   \n",
       "50%        6.800000    1.480000    2.800000    1.100000    0.500000   \n",
       "75%        7.700000    1.600000    3.200000    1.300000    0.750000   \n",
       "max        9.300000    1.900000    3.875000    1.700000    1.750000   \n",
       "\n",
       "       nota_examen  nota_asignatura  \n",
       "count   203.000000       203.000000  \n",
       "mean      5.469557         6.212808  \n",
       "std       1.602178         1.647631  \n",
       "min       0.000000         1.300000  \n",
       "25%       5.000000         4.900000  \n",
       "50%       5.525000         6.400000  \n",
       "75%       6.550000         7.500000  \n",
       "max       8.575000         9.100000  "
      ]
     },
     "execution_count": 43,
     "metadata": {},
     "output_type": "execute_result"
    }
   ],
   "source": [
    "df.describe()"
   ]
  },
  {
   "cell_type": "code",
   "execution_count": 48,
   "metadata": {},
   "outputs": [
    {
     "data": {
      "text/plain": [
       "43"
      ]
     },
     "execution_count": 48,
     "metadata": {},
     "output_type": "execute_result"
    }
   ],
   "source": [
    "#people who failed the exam\n",
    "df[df['nota_examen'] < 5]['nota_examen'].count()"
   ]
  },
  {
   "cell_type": "code",
   "execution_count": 50,
   "metadata": {},
   "outputs": [
    {
     "name": "stdout",
     "output_type": "stream",
     "text": [
      "Porcenta de personas con la asignatura aprobada: 68.47%\n"
     ]
    }
   ],
   "source": [
    "#percent of success of the subject\n",
    "print('Porcenta de personas con la asignatura aprobada: {0:.04}%' .format(df[df['nota_asignatura']>=5]['nota_asignatura'].count() / df['nota_asignatura'].count() * 100))"
   ]
  }
 ],
 "metadata": {
  "kernelspec": {
   "display_name": "Python 3",
   "language": "python",
   "name": "python3"
  },
  "language_info": {
   "codemirror_mode": {
    "name": "ipython",
    "version": 3
   },
   "file_extension": ".py",
   "mimetype": "text/x-python",
   "name": "python",
   "nbconvert_exporter": "python",
   "pygments_lexer": "ipython3",
   "version": "3.6.3"
  }
 },
 "nbformat": 4,
 "nbformat_minor": 2
}
