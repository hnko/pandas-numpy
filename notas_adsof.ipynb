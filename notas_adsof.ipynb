{
 "cells": [
  {
   "cell_type": "code",
   "execution_count": 199,
   "metadata": {},
   "outputs": [],
   "source": [
    "from tabula import read_pdf\n",
    "import pandas as pd"
   ]
  },
  {
   "cell_type": "code",
   "execution_count": 200,
   "metadata": {},
   "outputs": [],
   "source": [
    "df = read_pdf('Ordinaria-Notas.pdf')"
   ]
  },
  {
   "cell_type": "code",
   "execution_count": 201,
   "metadata": {},
   "outputs": [],
   "source": [
    "#delete the column of nie\n",
    "df.drop(df.columns[[0]], axis=1, inplace=True)"
   ]
  },
  {
   "cell_type": "code",
   "execution_count": 202,
   "metadata": {
    "scrolled": true
   },
   "outputs": [
    {
     "data": {
      "text/html": [
       "<div>\n",
       "<style scoped>\n",
       "    .dataframe tbody tr th:only-of-type {\n",
       "        vertical-align: middle;\n",
       "    }\n",
       "\n",
       "    .dataframe tbody tr th {\n",
       "        vertical-align: top;\n",
       "    }\n",
       "\n",
       "    .dataframe thead th {\n",
       "        text-align: right;\n",
       "    }\n",
       "</style>\n",
       "<table border=\"1\" class=\"dataframe\">\n",
       "  <thead>\n",
       "    <tr style=\"text-align: right;\">\n",
       "      <th></th>\n",
       "      <th>Unnamed: 1</th>\n",
       "      <th>Pruebas</th>\n",
       "      <th>Unnamed: 3</th>\n",
       "      <th>Unnamed: 4</th>\n",
       "      <th>Unnamed: 5</th>\n",
       "      <th>Unnamed: 6</th>\n",
       "      <th>Unnamed: 7</th>\n",
       "      <th>Unnamed: 8</th>\n",
       "      <th>Unnamed: 9</th>\n",
       "    </tr>\n",
       "  </thead>\n",
       "  <tbody>\n",
       "    <tr>\n",
       "      <th>0</th>\n",
       "      <td>Prácticas</td>\n",
       "      <td>Intermedias</td>\n",
       "      <td>P1</td>\n",
       "      <td>P2</td>\n",
       "      <td>P3</td>\n",
       "      <td>P4</td>\n",
       "      <td>Examen</td>\n",
       "      <td>Nota Teoría</td>\n",
       "      <td>Nota Final</td>\n",
       "    </tr>\n",
       "    <tr>\n",
       "      <th>1</th>\n",
       "      <td>9,40</td>\n",
       "      <td>9,60</td>\n",
       "      <td>2,50</td>\n",
       "      <td>2,50</td>\n",
       "      <td>2,30</td>\n",
       "      <td>2,35</td>\n",
       "      <td>9,7</td>\n",
       "      <td>9,7</td>\n",
       "      <td>9,6</td>\n",
       "    </tr>\n",
       "    <tr>\n",
       "      <th>2</th>\n",
       "      <td>7,40</td>\n",
       "      <td>5,70</td>\n",
       "      <td>2,40</td>\n",
       "      <td>1,75</td>\n",
       "      <td>1,30</td>\n",
       "      <td>NaN</td>\n",
       "      <td>5,5</td>\n",
       "      <td>5,6</td>\n",
       "      <td>6,4</td>\n",
       "    </tr>\n",
       "  </tbody>\n",
       "</table>\n",
       "</div>"
      ],
      "text/plain": [
       "  Unnamed: 1      Pruebas Unnamed: 3 Unnamed: 4 Unnamed: 5 Unnamed: 6  \\\n",
       "0  Prácticas  Intermedias         P1         P2         P3         P4   \n",
       "1       9,40         9,60       2,50       2,50       2,30       2,35   \n",
       "2       7,40         5,70       2,40       1,75       1,30        NaN   \n",
       "\n",
       "  Unnamed: 7   Unnamed: 8  Unnamed: 9  \n",
       "0     Examen  Nota Teoría  Nota Final  \n",
       "1        9,7          9,7         9,6  \n",
       "2        5,5          5,6         6,4  "
      ]
     },
     "execution_count": 202,
     "metadata": {},
     "output_type": "execute_result"
    }
   ],
   "source": [
    "df.head(3)"
   ]
  },
  {
   "cell_type": "code",
   "execution_count": 203,
   "metadata": {},
   "outputs": [],
   "source": [
    "#rename the columns and drop the fist row\n",
    "df.columns = list(df.values[0]) #other way, df.columns =[ 'Practica','Intermedias','P1','P2','P3','P4','Examen','Nota_Teoria','Nota_Final']\n",
    "df.drop(df.index[0], inplace=True)"
   ]
  },
  {
   "cell_type": "code",
   "execution_count": 204,
   "metadata": {},
   "outputs": [
    {
     "data": {
      "text/html": [
       "<div>\n",
       "<style scoped>\n",
       "    .dataframe tbody tr th:only-of-type {\n",
       "        vertical-align: middle;\n",
       "    }\n",
       "\n",
       "    .dataframe tbody tr th {\n",
       "        vertical-align: top;\n",
       "    }\n",
       "\n",
       "    .dataframe thead th {\n",
       "        text-align: right;\n",
       "    }\n",
       "</style>\n",
       "<table border=\"1\" class=\"dataframe\">\n",
       "  <thead>\n",
       "    <tr style=\"text-align: right;\">\n",
       "      <th></th>\n",
       "      <th>Prácticas</th>\n",
       "      <th>Intermedias</th>\n",
       "      <th>P1</th>\n",
       "      <th>P2</th>\n",
       "      <th>P3</th>\n",
       "      <th>P4</th>\n",
       "      <th>Examen</th>\n",
       "      <th>Nota Teoría</th>\n",
       "      <th>Nota Final</th>\n",
       "    </tr>\n",
       "  </thead>\n",
       "  <tbody>\n",
       "    <tr>\n",
       "      <th>1</th>\n",
       "      <td>9,40</td>\n",
       "      <td>9,60</td>\n",
       "      <td>2,50</td>\n",
       "      <td>2,50</td>\n",
       "      <td>2,30</td>\n",
       "      <td>2,35</td>\n",
       "      <td>9,7</td>\n",
       "      <td>9,7</td>\n",
       "      <td>9,6</td>\n",
       "    </tr>\n",
       "    <tr>\n",
       "      <th>2</th>\n",
       "      <td>7,40</td>\n",
       "      <td>5,70</td>\n",
       "      <td>2,40</td>\n",
       "      <td>1,75</td>\n",
       "      <td>1,30</td>\n",
       "      <td>NaN</td>\n",
       "      <td>5,5</td>\n",
       "      <td>5,6</td>\n",
       "      <td>6,4</td>\n",
       "    </tr>\n",
       "    <tr>\n",
       "      <th>3</th>\n",
       "      <td>9,30</td>\n",
       "      <td>8,00</td>\n",
       "      <td>2,40</td>\n",
       "      <td>2,00</td>\n",
       "      <td>1,85</td>\n",
       "      <td>0,10</td>\n",
       "      <td>6,4</td>\n",
       "      <td>7,1</td>\n",
       "      <td>8,0</td>\n",
       "    </tr>\n",
       "  </tbody>\n",
       "</table>\n",
       "</div>"
      ],
      "text/plain": [
       "  Prácticas Intermedias    P1    P2    P3    P4 Examen Nota Teoría Nota Final\n",
       "1      9,40        9,60  2,50  2,50  2,30  2,35    9,7         9,7        9,6\n",
       "2      7,40        5,70  2,40  1,75  1,30   NaN    5,5         5,6        6,4\n",
       "3      9,30        8,00  2,40  2,00  1,85  0,10    6,4         7,1        8,0"
      ]
     },
     "execution_count": 204,
     "metadata": {},
     "output_type": "execute_result"
    }
   ],
   "source": [
    "df.head(3)"
   ]
  },
  {
   "cell_type": "code",
   "execution_count": 215,
   "metadata": {},
   "outputs": [],
   "source": [
    "# convert to a list of float, drop 'NE' and replace ',' to '.'\n",
    "nota_final = [float(grade.replace(',','.' )) for grade in df['Nota Final'] if grade != 'NE']"
   ]
  },
  {
   "cell_type": "code",
   "execution_count": 230,
   "metadata": {},
   "outputs": [
    {
     "name": "stdout",
     "output_type": "stream",
     "text": [
      "Media de la asignatura: 6.68\n"
     ]
    }
   ],
   "source": [
    "#average of the course\n",
    "print(\"Media de la asignatura: {0:.3}\".format(sum(nota_final)/len(nota_final)))"
   ]
  },
  {
   "cell_type": "code",
   "execution_count": 239,
   "metadata": {},
   "outputs": [
    {
     "name": "stdout",
     "output_type": "stream",
     "text": [
      "Personas que han pasado la asignatura:  54 / 69\n",
      "Personas que NO han pasado la asignatura: 15 / 69\n",
      "El porcentaje de aprobados es: 78.26%\n"
     ]
    }
   ],
   "source": [
    "#how many people pass the subject\n",
    "failures = len([failure for failure in nota_final if failure < 5])\n",
    "print(\"Personas que han pasado la asignatura: \", len(nota_final)-failures,'/', len(nota_final))\n",
    "print(\"Personas que NO han pasado la asignatura:\", failures, '/', len(nota_final))\n",
    "print(\"El porcentaje de aprobados es: {0:.4}\".format(((len(nota_final)-failures)/len(nota_final))*100))"
   ]
  }
 ],
 "metadata": {
  "kernelspec": {
   "display_name": "Python 3",
   "language": "python",
   "name": "python3"
  },
  "language_info": {
   "codemirror_mode": {
    "name": "ipython",
    "version": 3
   },
   "file_extension": ".py",
   "mimetype": "text/x-python",
   "name": "python",
   "nbconvert_exporter": "python",
   "pygments_lexer": "ipython3",
   "version": "3.6.3"
  }
 },
 "nbformat": 4,
 "nbformat_minor": 2
}
